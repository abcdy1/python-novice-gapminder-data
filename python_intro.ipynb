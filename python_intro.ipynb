{
  "cells": [
    {
      "cell_type": "markdown",
      "metadata": {
        "id": "view-in-github",
        "colab_type": "text"
      },
      "source": [
        "<a href=\"https://colab.research.google.com/github/abcdy1/python-novice-gapminder-data/blob/main/python_intro.ipynb\" target=\"_parent\"><img src=\"https://colab.research.google.com/assets/colab-badge.svg\" alt=\"Open In Colab\"/></a>"
      ]
    },
    {
      "cell_type": "markdown",
      "source": [
        "# Intro to Python\n",
        "**bold text is pretty**\n",
        "\n",
        "This is my first jupyter+colab notebook.\n"
      ],
      "metadata": {
        "id": "aFXBzgJ-3sjK"
      }
    },
    {
      "cell_type": "code",
      "source": [
        "age = 47\n",
        "name = \"Alane\""
      ],
      "metadata": {
        "id": "B6_3Ob-R4qvR"
      },
      "execution_count": 1,
      "outputs": []
    },
    {
      "cell_type": "code",
      "source": [
        "print(age)"
      ],
      "metadata": {
        "id": "p146Imxu5t40",
        "outputId": "b164266a-a265-4cdd-eff1-0f6e8ba53fc4",
        "colab": {
          "base_uri": "https://localhost:8080/"
        }
      },
      "execution_count": 2,
      "outputs": [
        {
          "output_type": "stream",
          "name": "stdout",
          "text": [
            "47\n"
          ]
        }
      ]
    },
    {
      "cell_type": "code",
      "source": [
        "print(name, \"is\", age, \"years old\",\".\")"
      ],
      "metadata": {
        "id": "WhXXHBme5_Wy",
        "outputId": "2eeb4d5d-29af-4f52-dcb8-9a36c5ed9b71",
        "colab": {
          "base_uri": "https://localhost:8080/"
        }
      },
      "execution_count": 5,
      "outputs": [
        {
          "output_type": "stream",
          "name": "stdout",
          "text": [
            "Alane is 47 years old .\n"
          ]
        }
      ]
    },
    {
      "cell_type": "code",
      "source": [
        "last_name = \"Dy\"\n",
        "print(last_name)"
      ],
      "metadata": {
        "id": "HITGWdh468k6",
        "outputId": "2fa1f050-4e51-4647-c71a-a3c33e23e607",
        "colab": {
          "base_uri": "https://localhost:8080/"
        }
      },
      "execution_count": 7,
      "outputs": [
        {
          "output_type": "stream",
          "name": "stdout",
          "text": [
            "Dy\n"
          ]
        }
      ]
    },
    {
      "cell_type": "code",
      "source": [
        "print(name, \"will be\", age+10, \"in ten years.\")"
      ],
      "metadata": {
        "id": "Az7Dh6jg7rep",
        "outputId": "5b0c10ed-6f1a-4e38-c694-4fe6cf059bd2",
        "colab": {
          "base_uri": "https://localhost:8080/"
        }
      },
      "execution_count": 8,
      "outputs": [
        {
          "output_type": "stream",
          "name": "stdout",
          "text": [
            "Alane will be 57 in ten years.\n"
          ]
        }
      ]
    },
    {
      "cell_type": "code",
      "source": [
        "print(name[2])"
      ],
      "metadata": {
        "id": "8sGgH4vO8YX9",
        "outputId": "d1f18f35-e8a7-4f06-d720-593cc928a019",
        "colab": {
          "base_uri": "https://localhost:8080/"
        }
      },
      "execution_count": 9,
      "outputs": [
        {
          "output_type": "stream",
          "name": "stdout",
          "text": [
            "a\n"
          ]
        }
      ]
    },
    {
      "cell_type": "code",
      "source": [
        "name_substring = name[0:7]\n",
        "print(name_substring)"
      ],
      "metadata": {
        "id": "jRiU0M179BmD",
        "outputId": "45611a2c-fafe-42e2-9338-dc439cd5a514",
        "colab": {
          "base_uri": "https://localhost:8080/"
        }
      },
      "execution_count": 10,
      "outputs": [
        {
          "output_type": "stream",
          "name": "stdout",
          "text": [
            "Alane\n"
          ]
        }
      ]
    },
    {
      "cell_type": "code",
      "source": [
        "length_name_substring = len(name_substring)\n",
        "print(length_name_substring + 4)"
      ],
      "metadata": {
        "id": "VkWBT9zN90Dn",
        "outputId": "50e0ec0d-b70c-42ca-ff73-0152a085971e",
        "colab": {
          "base_uri": "https://localhost:8080/"
        }
      },
      "execution_count": 13,
      "outputs": [
        {
          "output_type": "stream",
          "name": "stdout",
          "text": [
            "9\n"
          ]
        }
      ]
    },
    {
      "cell_type": "code",
      "source": [
        "name = \"Alane Blythe\"\n",
        "print(name)"
      ],
      "metadata": {
        "id": "62-QNFBy-LtU",
        "outputId": "ee8151fa-ee67-4d80-ae55-d970c2899cff",
        "colab": {
          "base_uri": "https://localhost:8080/"
        }
      },
      "execution_count": 16,
      "outputs": [
        {
          "output_type": "stream",
          "name": "stdout",
          "text": [
            "Alane Blythe\n"
          ]
        }
      ]
    },
    {
      "cell_type": "code",
      "source": [
        "type(age)"
      ],
      "metadata": {
        "id": "APVUS1Ed_2Ii",
        "outputId": "a199bce1-ff2e-4669-ca8e-22b2dedbf27a",
        "colab": {
          "base_uri": "https://localhost:8080/"
        }
      },
      "execution_count": 18,
      "outputs": [
        {
          "output_type": "execute_result",
          "data": {
            "text/plain": [
              "int"
            ]
          },
          "metadata": {},
          "execution_count": 18
        }
      ]
    },
    {
      "cell_type": "code",
      "source": [
        "new_age =\"20\"\n",
        "print(new_age + 15)"
      ],
      "metadata": {
        "id": "JaQSj3piAz2N",
        "outputId": "988a7c3c-46c9-40a7-c2da-975729572683",
        "colab": {
          "base_uri": "https://localhost:8080/",
          "height": 162
        }
      },
      "execution_count": 19,
      "outputs": [
        {
          "output_type": "error",
          "ename": "TypeError",
          "evalue": "can only concatenate str (not \"int\") to str",
          "traceback": [
            "\u001b[0;31m---------------------------------------------------------------------------\u001b[0m",
            "\u001b[0;31mTypeError\u001b[0m                                 Traceback (most recent call last)",
            "\u001b[0;32m<ipython-input-19-7985fbe61eb7>\u001b[0m in \u001b[0;36m<cell line: 0>\u001b[0;34m()\u001b[0m\n\u001b[1;32m      1\u001b[0m \u001b[0mnew_age\u001b[0m \u001b[0;34m=\u001b[0m\u001b[0;34m\"20\"\u001b[0m\u001b[0;34m\u001b[0m\u001b[0;34m\u001b[0m\u001b[0m\n\u001b[0;32m----> 2\u001b[0;31m \u001b[0mprint\u001b[0m\u001b[0;34m(\u001b[0m\u001b[0mnew_age\u001b[0m \u001b[0;34m+\u001b[0m \u001b[0;36m15\u001b[0m\u001b[0;34m)\u001b[0m\u001b[0;34m\u001b[0m\u001b[0;34m\u001b[0m\u001b[0m\n\u001b[0m",
            "\u001b[0;31mTypeError\u001b[0m: can only concatenate str (not \"int\") to str"
          ]
        }
      ]
    },
    {
      "cell_type": "code",
      "source": [
        "new_age = int(new_age)"
      ],
      "metadata": {
        "id": "_Ldr55beBXNl"
      },
      "execution_count": 20,
      "outputs": []
    },
    {
      "cell_type": "code",
      "source": [
        "new_age + 50"
      ],
      "metadata": {
        "id": "ZVhL_sVLBn56",
        "outputId": "775b3a67-d2c5-433d-8a80-0381314e0903",
        "colab": {
          "base_uri": "https://localhost:8080/"
        }
      },
      "execution_count": 21,
      "outputs": [
        {
          "output_type": "execute_result",
          "data": {
            "text/plain": [
              "70"
            ]
          },
          "metadata": {},
          "execution_count": 21
        }
      ]
    },
    {
      "cell_type": "code",
      "source": [
        "name * 2"
      ],
      "metadata": {
        "id": "IsiTf3-HCO0b",
        "outputId": "4b454d6e-568d-47b3-8744-2042deff8e13",
        "colab": {
          "base_uri": "https://localhost:8080/",
          "height": 35
        }
      },
      "execution_count": 22,
      "outputs": [
        {
          "output_type": "execute_result",
          "data": {
            "text/plain": [
              "'Alane BlytheAlane Blythe'"
            ],
            "application/vnd.google.colaboratory.intrinsic+json": {
              "type": "string"
            }
          },
          "metadata": {},
          "execution_count": 22
        }
      ]
    },
    {
      "cell_type": "code",
      "source": [
        "name + \".\""
      ],
      "metadata": {
        "id": "WMADkSk6ELiE",
        "outputId": "1c735ef1-26f1-486d-8825-711e88466691",
        "colab": {
          "base_uri": "https://localhost:8080/",
          "height": 35
        }
      },
      "execution_count": 23,
      "outputs": [
        {
          "output_type": "execute_result",
          "data": {
            "text/plain": [
              "'Alane Blythe.'"
            ],
            "application/vnd.google.colaboratory.intrinsic+json": {
              "type": "string"
            }
          },
          "metadata": {},
          "execution_count": 23
        }
      ]
    },
    {
      "cell_type": "code",
      "source": [],
      "metadata": {
        "id": "d0Kq856CIJvM"
      },
      "execution_count": null,
      "outputs": []
    }
  ],
  "metadata": {
    "colab": {
      "provenance": [],
      "include_colab_link": true
    },
    "language_info": {
      "name": "python"
    },
    "kernelspec": {
      "name": "python3",
      "display_name": "Python 3"
    }
  },
  "nbformat": 4,
  "nbformat_minor": 0
}